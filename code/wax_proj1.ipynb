{
 "cells": [
  {
   "cell_type": "markdown",
   "metadata": {},
   "source": [
    "# Project: Yelp WAX"
   ]
  },
  {
   "cell_type": "markdown",
   "metadata": {},
   "source": [
    "## Part 1 - Understanding your data and question\n",
    "\n",
    "You will be pulling data from the Yelp API to complete your analysis. The api, however, provides you with a lot of information that will not be pertinent to your analysis. YOu will pull data from the api and parse through it to keep only the data that you will need. In order to help you identify that information,look at the API documentation and understand what data the api will provide you. \n",
    "\n",
    "Identify which data fields you will want to keep for your analysis. \n",
    "\n",
    "https://www.yelp.com/developers/documentation/v3/get_started"
   ]
  },
  {
   "cell_type": "markdown",
   "metadata": {},
   "source": [
    "___"
   ]
  },
  {
   "cell_type": "markdown",
   "metadata": {},
   "source": [
    "## Part 2 - Create ETL pipeline for the business data from the API\n",
    "\n",
    "Now that you know what data you need from the API, you want to write code that will execute a api call, parse those results and then insert the results into the DB.  \n",
    "\n",
    "It is helpful to break this up into three different functions (*api call, parse results, and insert into DB*) and then you can write a function/script that pull the other three functions together. \n",
    "\n",
    "Let's first do this for the Business endpoint.\n",
    "\n",
    "WAX:\n",
    "https://www.yelp.com/developers/documentation/v3/business_search\n",
    "ETL - extract, transform, load"
   ]
  },
  {
   "cell_type": "code",
   "execution_count": 2,
   "metadata": {},
   "outputs": [],
   "source": [
    "import requests\n",
    "import json\n",
    "import csv\n",
    "import os\n",
    "import pandas as pd\n",
    "import numpy as np\n",
    "from helper_funcs import *"
   ]
  },
  {
   "cell_type": "code",
   "execution_count": 4,
   "metadata": {},
   "outputs": [],
   "source": [
    "biz_url =  'https://api.yelp.com/v3/businesses/search' # for business search\n",
    "rev_url = 'https://api.yelp.com/v3/businesses/{id}/reviews' # for reviews"
   ]
  },
  {
   "cell_type": "code",
   "execution_count": 5,
   "metadata": {},
   "outputs": [],
   "source": [
    "# for debugging\n",
    "headers = {\n",
    "        'Authorization': 'Bearer {}'.format(api_key),\n",
    "    }"
   ]
  },
  {
   "cell_type": "code",
   "execution_count": 6,
   "metadata": {},
   "outputs": [],
   "source": [
    "# what type of business do you want to search\n",
    "term = 'sushi'\n",
    "#where do you want to perform this search\n",
    "location = 'Brooklyn'\n",
    "# what is your other parameter you want to search against\n",
    "categories = 'restaurants'\n",
    "biz_filepath = '../data/biz_data.csv'\n",
    "rev_filepath = '../data/rev_data.csv'\n",
    "\n",
    "url_params = {\n",
    "    \"term\": term.replace(' ', '+'),\n",
    "    \"location\": location.replace(' ', '+'),\n",
    "    \"categories\" : categories,\n",
    "    \"limit\": 50,\n",
    "}\n",
    "max_results = 1000 # for testing purposes, limit the amount of API calls to the server"
   ]
  },
  {
   "cell_type": "code",
   "execution_count": 5,
   "metadata": {},
   "outputs": [
    {
     "name": "stdout",
     "output_type": "stream",
     "text": [
      "Gathering business info:\n",
      "Deleted existing biz_data.csv file.\n",
      "Created new biz_data.csv file and added headers:\n",
      "['id', 'name', 'is_closed', 'review_count', 'zip_code', 'rating', 'price']\n",
      "Downloading data - - - - - - - - - - - - - - - - - - - - - Done.\n",
      "Successfully gathered listings for maximum of 1000 businesses of type 'restaurants', search term 'sushi', in 'Brooklyn'.\n"
     ]
    }
   ],
   "source": [
    "# main fuction call for business data for Brooklyn\n",
    "get_biz_data(biz_url, url_params, biz_filepath, max_results, 'y')"
   ]
  },
  {
   "cell_type": "code",
   "execution_count": 6,
   "metadata": {},
   "outputs": [],
   "source": [
    "# debugging\n",
    "# biz_id = 'EIcbGkl6bRtAi12zcjA7-A'\n",
    "# rev_url_id = rev_url.format(id = biz_id)\n",
    "# response = requests.get(rev_url_id, headers=headers, params=url_params)\n",
    "# print(response)\n",
    "# data = response.json()"
   ]
  },
  {
   "cell_type": "code",
   "execution_count": 7,
   "metadata": {},
   "outputs": [
    {
     "name": "stdout",
     "output_type": "stream",
     "text": [
      "Gathering business info:\n",
      "Appending to biz_data.csv file with headers:\n",
      "['id', 'name', 'is_closed', 'review_count', 'zip_code', 'rating', 'price']\n",
      "Downloading data - - - - - - - - - - - - - - - - - - - - - Done.\n",
      "Successfully gathered listings for maximum of 1000 businesses of type 'restaurants', search term 'sushi', in 'Los+Angeles'.\n"
     ]
    }
   ],
   "source": [
    "location = 'Los Angeles'\n",
    "url_params['location'] = location.replace(' ', '+')\n",
    "get_biz_data(biz_url, url_params, biz_filepath, max_results)"
   ]
  },
  {
   "cell_type": "markdown",
   "metadata": {},
   "source": [
    "___"
   ]
  },
  {
   "cell_type": "markdown",
   "metadata": {},
   "source": [
    "## Part 3 -  Create ETL pipeline for the restaurant review data from the API\n",
    "\n",
    "You've done this for the Businesses, now you need to do this for reviews. You will follow the same process, but your functions will be specific to reviews. Above you ahve a model of the functions you will need to write, and how to pull them together in one script. For this part, you ahve the process below "
   ]
  },
  {
   "cell_type": "code",
   "execution_count": 8,
   "metadata": {},
   "outputs": [
    {
     "name": "stdout",
     "output_type": "stream",
     "text": [
      "Gathering reviews:\n",
      "Deleted existing rev_data.csv file.\n",
      "Created new rev_data.csv file and added headers:\n",
      "['id', 'business_id', 'text', 'rating']\n",
      "Downloading data - - - - - - - - - - - - - - - - - - - - - - - - - - - - - - - - - - - - - - - - - - - - - - - - - - - - - - - - - - - - - - - - - - - - - - - - - - - - - - - - - - - - - - - - - - - - - - - - - - - - - - - - - - - - - - - - - - - - - - - - - - - - - - - - - - - - - - - - - - - - - - - - - - - - - - - - - - - - - - - - - - - - - - - - - - - - - - - - - - - - - - - - - - - - - - - - - - - - - - - - - - - - - - - - - - - - - - - - - - - - - - - - - - - - - - - - - - - - - - - - - - - - - - - - - - - - - - - - - - - - - - - - - - - - - - - - - - - - - - - - - - - - - - - - - - - - - - - - - - - - - - - - - - - - - - - - - - - - - - - - - - - - - - - - - - - - - - - - - - - - - - - - - - - - - - - - - - - - - - - - - - - - - - - - - - - - - - - - - - - - - - - - - - - - - - - - - - - - - - - - - - - - - - - - - - - - - - - - - - - - - - - - - - - - - - - - - - - - - - - - - - - - - - - - - - - - - - - - - - - - - - - - - - - - - - - - - - - - - - - - - - - - - - - - - - - - - - - - - - - - - - - - - - - - - - - - - - - - - - - - - - - - - - - - - - - - - - - - - - - - - - - - - - - - - - - - - - - - - - - - - - - - - - - - - - - - - - - - - - - - - - - - - - - - - - - - - - - - - - - - - - - - - - - - - - - - - - - - - - - - - - - - - - - - - - - - - - - - - - - - - - - - - - - - - - - - - - - - - - - - - - - - - - - - - - - - - - - - - - - - - - - - - - - - - - - - - - - - - - - - - - - - - - - - - - - - - - - - - - - - - - - - - - - - - - - - - - - - - - - - - - - - - - - - - - - - - - - - - - - - - - - - - - - - - - - - - - - - - - - - - - - - - - - - - - - - - - - - - - - - - - - - - - - - - - - - - - - - - - - - - - - - - - - - - - - - - - - - - - - - - - - - - - - - - - - - - - - - - - - - - - - - - - - - - - - - - - - - - - - - - - - - - - - - - - - - - - - - - - - - - - - - - - - - - - - - - - - - - - - - - - - - - - - - - - - - - - - - - - - - - - - - - - - - - - - - - - - - - - - - - - - - - - - - - - - - - - - - - - - - - - - - - - - - - - - - - - - - - - - - - - - - - - - - - - - - - - - - - - - - - - - - - - - - - - - - - - - - - - - - - - - - - - - - - - - - - - - - - - - - - - - - - - - - - - - - - - - - - - - - - - - - - - - - - - - - - - - - - - - - - - - - - - - - - - - - - - - - - - - - - - - - - - - - - - - - - - - - - - - - - - - - - - - - - - - - - - - - - - - - - - - - - - - - - - - - - - - - - - - - - - - - - - - - - - - - - - - - - - - - - - - - - - - - - - - - - - - - - - - - - - - - - - - - - - - - - - - - - - - - - - - - - - - - - - - - - - - - - - - - - - - - - - - - - - - - - - - - - - - - - - - - - - - - - - - - - - - - - - - - - - - - - - - - - - - - - - - - - - - - - - - - - - - - - - - - - - - - - - - - - - - - - - - - - - - - - - - - - - - - - - - - - - - - - - - - - - - - - - - - - - - - - - - - - - - - - - - - - - - - - - - - - - - - - - - - - - - - - - - - - - - - - - - - - - - - - - - - - - - - - - - - - - - - - - - - - - - - - - - - - - - - - - - - - - - - - - - - - - - - - - - - - - - - - - - - - - - - - - - - - - - - - - - - - - - - - - - - - - - - - - - - - - - - - - - - - - - - - - - - - - - - - - - - - - - - - - - - - - - - - - - - - - - - - - - - - - - - - - - - - - - - - - - - - - - - - - - - - - - - - - - - - - - - - - - - - - - - - - - - - - - - - - - - - - - - - - - - - - - - - - - - - - - - - - - - - - - - - - - - - - - - - - - - - - - - - - - - - - - - - - - - - - - - - - - - - - - - - - - - - - - - - - - - - - - - - - - - - - - - - - - - - - - - - - - - - - - - - - - - - - - - - - - - - - - - - - - - - - - - - - - - - - - - - - - - - - - - - - - - - - - - - - - - - - - - - - - - - - - - - - - - - - - - - - - - - - - - - - - - - - - - - - - - - - - - - - - - - - - - - - - - - - - - - - - - - - - - - - - - - - - - - - - - - - - - - - - - - - - - - - - - - - - - - - - - - - - - - - - - - - - - - - - - - - - - - - - - - - - - - - - - - - - - - - - - - - - - - - - - - - - - - - - - - - - - - - - - - - - - - - - - - - - - - - - - - - - - - - - - - - - - - - - - - - - - - - - - - - - - - Done.\n",
      "Successfully gathered up to 3 reviews each for 2000 businesses.\n"
     ]
    }
   ],
   "source": [
    "# API calls to gather reviews for each business in Business CSV file\n",
    "get_rev_data(biz_filepath, rev_url, rev_filepath)"
   ]
  },
  {
   "cell_type": "markdown",
   "metadata": {},
   "source": [
    "___"
   ]
  },
  {
   "cell_type": "markdown",
   "metadata": {},
   "source": [
    "## Part 4 -  Using python and pandas, write code to answer the questions below. \n",
    "\n",
    "\n",
    "- Which are the 5 most reviewed businesses in your dataset?\n",
    "- What is the highest rating recieved in your data set and how many businesses have that rating?\n",
    "- What percentage of businesses have a rating greater than or  4.5?\n",
    "- What percentage of businesses have a rating less than 3?\n",
    "- What percentage of your businesseshave a price label of one dollar sign? Two dollar signs? Three dollar signs? No dollar signs?\n",
    "- Return the text of the reviews for the most reviewed business. \n",
    "- Find the highest rated business and return text of the most recent review. If multiple business have the same rating, select the business with the most reviews. \n",
    "- Find the lowest rated business and return text of the most recent review.  If multiple business have the same rating, select the business with the least reviews. \n"
   ]
  },
  {
   "cell_type": "code",
   "execution_count": 83,
   "metadata": {},
   "outputs": [
    {
     "name": "stdout",
     "output_type": "stream",
     "text": [
      "<class 'pandas.core.frame.DataFrame'>\n",
      "Index: 2000 entries, Sushi Yashin to Gatten Sushi\n",
      "Data columns (total 6 columns):\n",
      " #   Column        Non-Null Count  Dtype \n",
      "---  ------        --------------  ----- \n",
      " 0   id            2000 non-null   object\n",
      " 1   is_closed     2000 non-null   object\n",
      " 2   review_count  2000 non-null   object\n",
      " 3   zip_code      2000 non-null   object\n",
      " 4   rating        2000 non-null   object\n",
      " 5   price         2000 non-null   object\n",
      "dtypes: object(6)\n",
      "memory usage: 109.4+ KB\n"
     ]
    },
    {
     "data": {
      "text/plain": [
       "(2000, 6)"
      ]
     },
     "execution_count": 83,
     "metadata": {},
     "output_type": "execute_result"
    }
   ],
   "source": [
    "# import business data from CSV\n",
    "biz_data = import_csv(biz_filepath)\n",
    "biz_df = pd.DataFrame(biz_data)\n",
    "biz_df.set_index('name',inplace = True)\n",
    "biz_df.info()\n",
    "biz_df.shape"
   ]
  },
  {
   "cell_type": "code",
   "execution_count": 14,
   "metadata": {},
   "outputs": [
    {
     "data": {
      "text/plain": [
       "0"
      ]
     },
     "execution_count": 14,
     "metadata": {},
     "output_type": "execute_result"
    }
   ],
   "source": [
    "# check if any are permanently closed\n",
    "(biz_df['is_closed']=='True').sum()"
   ]
  },
  {
   "cell_type": "code",
   "execution_count": 84,
   "metadata": {},
   "outputs": [
    {
     "name": "stdout",
     "output_type": "stream",
     "text": [
      "<class 'pandas.core.frame.DataFrame'>\n",
      "Index: 1999 entries, Sushi Yashin to Gatten Sushi\n",
      "Data columns (total 6 columns):\n",
      " #   Column        Non-Null Count  Dtype  \n",
      "---  ------        --------------  -----  \n",
      " 0   id            1999 non-null   string \n",
      " 1   is_closed     1999 non-null   bool   \n",
      " 2   review_count  1999 non-null   int64  \n",
      " 3   zip_code      1999 non-null   int64  \n",
      " 4   rating        1999 non-null   float64\n",
      " 5   price         1999 non-null   string \n",
      "dtypes: bool(1), float64(1), int64(2), string(2)\n",
      "memory usage: 95.7+ KB\n"
     ]
    }
   ],
   "source": [
    "# drop the one listing that does not have a zip code\n",
    "# convert dtypes as appropriate\n",
    "biz_df.drop(biz_df[biz_df['zip_code'] == ''].index, inplace = True)\n",
    "biz_df['id'] = biz_df['id'].astype('string')\n",
    "biz_df['is_closed'] = biz_df['review_count'].astype(bool)\n",
    "biz_df['review_count'] = biz_df['review_count'].apply(int)\n",
    "biz_df['zip_code'] = biz_df['zip_code'].apply(int)\n",
    "biz_df['rating'] = biz_df['rating'].apply(float)\n",
    "biz_df['price'] = biz_df['price'].astype('string')\n",
    "biz_df.info()"
   ]
  },
  {
   "cell_type": "markdown",
   "metadata": {},
   "source": [
    "Which are the 5 most reviewed businesses in your dataset?"
   ]
  },
  {
   "cell_type": "code",
   "execution_count": 16,
   "metadata": {},
   "outputs": [
    {
     "data": {
      "text/plain": [
       "name\n",
       "Daikokuya Little Tokyo              8641\n",
       "Slurpin' Ramen Bar - Los Angeles    4636\n",
       "Tsujita LA Artisan Noodle           4058\n",
       "Sushi Gen                           3812\n",
       "Marugame Monzo                      3798\n",
       "Name: review_count, dtype: int64"
      ]
     },
     "execution_count": 16,
     "metadata": {},
     "output_type": "execute_result"
    }
   ],
   "source": [
    "biz_df['review_count'].sort_values(ascending = False).head(5)"
   ]
  },
  {
   "cell_type": "markdown",
   "metadata": {},
   "source": [
    "What is the highest rating recieved in your data set and how many businesses have that rating?"
   ]
  },
  {
   "cell_type": "code",
   "execution_count": 17,
   "metadata": {},
   "outputs": [
    {
     "data": {
      "text/plain": [
       "5.0"
      ]
     },
     "execution_count": 17,
     "metadata": {},
     "output_type": "execute_result"
    }
   ],
   "source": [
    "biz_df['rating'].max()"
   ]
  },
  {
   "cell_type": "code",
   "execution_count": 28,
   "metadata": {},
   "outputs": [
    {
     "data": {
      "text/plain": [
       "1.5      1\n",
       "2.0      9\n",
       "2.5     15\n",
       "3.0     99\n",
       "3.5    397\n",
       "4.0    879\n",
       "4.5    500\n",
       "5.0     99\n",
       "Name: rating, dtype: int64"
      ]
     },
     "execution_count": 28,
     "metadata": {},
     "output_type": "execute_result"
    }
   ],
   "source": [
    "perfect_5 = biz_df['rating'].value_counts().sort_index()\n",
    "perfect_5"
   ]
  },
  {
   "cell_type": "code",
   "execution_count": 31,
   "metadata": {},
   "outputs": [
    {
     "data": {
      "text/plain": [
       "5.0    99\n",
       "Name: rating, dtype: int64"
      ]
     },
     "execution_count": 31,
     "metadata": {},
     "output_type": "execute_result"
    }
   ],
   "source": [
    "perfect_5[perfect_5.index==5.0]"
   ]
  },
  {
   "cell_type": "markdown",
   "metadata": {},
   "source": [
    "What percentage of businesses have a rating greater than or equal to 4.5?"
   ]
  },
  {
   "cell_type": "code",
   "execution_count": 29,
   "metadata": {},
   "outputs": [
    {
     "data": {
      "text/plain": [
       "1.5     0.050025\n",
       "2.0     0.450225\n",
       "2.5     0.750375\n",
       "3.0     4.952476\n",
       "3.5    19.859930\n",
       "4.0    43.971986\n",
       "4.5    25.012506\n",
       "5.0     4.952476\n",
       "Name: rating, dtype: float64"
      ]
     },
     "execution_count": 29,
     "metadata": {},
     "output_type": "execute_result"
    }
   ],
   "source": [
    "ratings = 100*biz_df['rating'].value_counts(normalize=True).sort_index()\n",
    "ratings"
   ]
  },
  {
   "cell_type": "code",
   "execution_count": 206,
   "metadata": {},
   "outputs": [
    {
     "data": {
      "text/plain": [
       "29.964982491245628"
      ]
     },
     "execution_count": 206,
     "metadata": {},
     "output_type": "execute_result"
    }
   ],
   "source": [
    "ratings[ratings.index>=4.5].sum()"
   ]
  },
  {
   "cell_type": "markdown",
   "metadata": {},
   "source": [
    "What percentage of businesses have a rating less than 3?"
   ]
  },
  {
   "cell_type": "code",
   "execution_count": 208,
   "metadata": {},
   "outputs": [
    {
     "data": {
      "text/plain": [
       "1.2506253126563283"
      ]
     },
     "execution_count": 208,
     "metadata": {},
     "output_type": "execute_result"
    }
   ],
   "source": [
    "ratings[ratings.index<3.0].sum()"
   ]
  },
  {
   "cell_type": "markdown",
   "metadata": {},
   "source": [
    "What percentage of your businesses have a price label of one dollar sign? Two dollar signs? Three dollar signs? No dollar signs?"
   ]
  },
  {
   "cell_type": "code",
   "execution_count": 224,
   "metadata": {},
   "outputs": [
    {
     "data": {
      "text/plain": [
       "        16.008004\n",
       "$        6.853427\n",
       "$$      64.732366\n",
       "$$$      7.553777\n",
       "$$$$     4.852426\n",
       "Name: price, dtype: float64"
      ]
     },
     "execution_count": 224,
     "metadata": {},
     "output_type": "execute_result"
    }
   ],
   "source": [
    "prices = 100*(biz_df['price'].value_counts()/len(biz_df['price'])).sort_index()\n",
    "prices"
   ]
  },
  {
   "cell_type": "markdown",
   "metadata": {},
   "source": [
    "Return the text of the reviews for the most reviewed business."
   ]
  },
  {
   "cell_type": "code",
   "execution_count": 244,
   "metadata": {},
   "outputs": [
    {
     "data": {
      "text/plain": [
       "8641"
      ]
     },
     "execution_count": 244,
     "metadata": {},
     "output_type": "execute_result"
    }
   ],
   "source": [
    "biz_df['review_count'].max()"
   ]
  },
  {
   "cell_type": "code",
   "execution_count": 246,
   "metadata": {},
   "outputs": [
    {
     "data": {
      "text/plain": [
       "name\n",
       "Daikokuya Little Tokyo    iSZpZgVnASwEmlq0DORY2A\n",
       "Name: id, dtype: string"
      ]
     },
     "execution_count": 246,
     "metadata": {},
     "output_type": "execute_result"
    }
   ],
   "source": [
    "biz_df[biz_df['review_count'] == biz_df['review_count'].max()]['id']"
   ]
  },
  {
   "cell_type": "code",
   "execution_count": 42,
   "metadata": {},
   "outputs": [
    {
     "name": "stdout",
     "output_type": "stream",
     "text": [
      "<class 'pandas.core.frame.DataFrame'>\n",
      "RangeIndex: 5925 entries, 0 to 5924\n",
      "Data columns (total 4 columns):\n",
      " #   Column       Non-Null Count  Dtype \n",
      "---  ------       --------------  ----- \n",
      " 0   id           5925 non-null   object\n",
      " 1   business_id  5925 non-null   object\n",
      " 2   text         5925 non-null   object\n",
      " 3   rating       5925 non-null   object\n",
      "dtypes: object(4)\n",
      "memory usage: 185.3+ KB\n"
     ]
    },
    {
     "data": {
      "text/plain": [
       "(5925, 4)"
      ]
     },
     "execution_count": 42,
     "metadata": {},
     "output_type": "execute_result"
    }
   ],
   "source": [
    "rev_data = import_csv(rev_filepath)\n",
    "rev_df = pd.DataFrame(rev_data)\n",
    "rev_df.info()\n",
    "rev_df.shape"
   ]
  },
  {
   "cell_type": "code",
   "execution_count": 56,
   "metadata": {},
   "outputs": [
    {
     "name": "stdout",
     "output_type": "stream",
     "text": [
      "<class 'pandas.core.frame.DataFrame'>\n",
      "RangeIndex: 5925 entries, 0 to 5924\n",
      "Data columns (total 4 columns):\n",
      " #   Column       Non-Null Count  Dtype  \n",
      "---  ------       --------------  -----  \n",
      " 0   rev_id       5925 non-null   string \n",
      " 1   business_id  5925 non-null   string \n",
      " 2   text         5925 non-null   string \n",
      " 3   rating       5925 non-null   float64\n",
      "dtypes: float64(1), string(3)\n",
      "memory usage: 185.3 KB\n"
     ]
    }
   ],
   "source": [
    "# convert dtypes as appropriate\n",
    "rev_df['id'] = rev_df['id'].astype('string')\n",
    "rev_df.rename(columns={'id':'rev_id'}, inplace = True)\n",
    "rev_df['business_id'] = rev_df['business_id'].astype('string')\n",
    "rev_df['text'] = rev_df['text'].astype('string')\n",
    "rev_df['rating'] = rev_df['rating'].apply(float)\n",
    "rev_df.info()"
   ]
  },
  {
   "cell_type": "code",
   "execution_count": 176,
   "metadata": {},
   "outputs": [],
   "source": [
    "biz_df.reset_index(inplace = True)\n",
    "biz_df.set_index('id', inplace = True)"
   ]
  },
  {
   "cell_type": "code",
   "execution_count": 196,
   "metadata": {},
   "outputs": [
    {
     "name": "stdout",
     "output_type": "stream",
     "text": [
      "<class 'pandas.core.frame.DataFrame'>\n",
      "Int64Index: 5934 entries, 0 to 5933\n",
      "Data columns (total 10 columns):\n",
      " #   Column        Non-Null Count  Dtype  \n",
      "---  ------        --------------  -----  \n",
      " 0   name          5934 non-null   string \n",
      " 1   is_closed     5934 non-null   bool   \n",
      " 2   review_count  5934 non-null   int64  \n",
      " 3   zip_code      5934 non-null   int64  \n",
      " 4   rating_biz    5934 non-null   float64\n",
      " 5   price         5934 non-null   string \n",
      " 6   rev_id        5934 non-null   string \n",
      " 7   business_id   5934 non-null   string \n",
      " 8   text          5934 non-null   string \n",
      " 9   rating_rev    5934 non-null   float64\n",
      "dtypes: bool(1), float64(2), int64(2), string(5)\n",
      "memory usage: 469.4 KB\n"
     ]
    },
    {
     "data": {
      "text/plain": [
       "(5934, 10)"
      ]
     },
     "execution_count": 196,
     "metadata": {},
     "output_type": "execute_result"
    }
   ],
   "source": [
    "br_df = biz_df.merge(rev_df, left_on = 'id', right_on = 'business_id', suffixes=('_biz', '_rev'))\n",
    "br_df['name'] = br_df['name'].astype('string')\n",
    "br_df.info()\n",
    "br_df.shape"
   ]
  },
  {
   "cell_type": "code",
   "execution_count": 291,
   "metadata": {},
   "outputs": [
    {
     "name": "stdout",
     "output_type": "stream",
     "text": [
      "Daikokuya just never disappoints!\n",
      "Went last night for the first time during Covid-\n",
      "Short wait and outdoor dining.\n",
      "If you haven't eaten there yet, there are...\n",
      "I've been come here for years.  Never disappoints!     Waiting in line and dining in is what I missed the most.  lol\n",
      "\n",
      "Due to COVID, takeout is the only...\n",
      "{Overall: 5; Food: 5; Service: 5; Atmosphere: 4}\n",
      "\n",
      "So good. Daikokuya is my new favorite ramen.\n",
      "\n",
      "*Daikoku Ramen: The noodles were cooked perfectly -...\n"
     ]
    },
    {
     "data": {
      "text/plain": [
       "[None, None, None]"
      ]
     },
     "execution_count": 291,
     "metadata": {},
     "output_type": "execute_result"
    }
   ],
   "source": [
    "[print(x) for x in br_df.loc[br_df['name']=='Daikokuya Little Tokyo']['text']]"
   ]
  },
  {
   "cell_type": "markdown",
   "metadata": {},
   "source": [
    "Find the highest rated business and return text of the most recent review. If multiple business have the same rating, select the business with the most reviews."
   ]
  },
  {
   "cell_type": "code",
   "execution_count": 141,
   "metadata": {},
   "outputs": [],
   "source": [
    "results = get_review(rev_url, 'iSZpZgVnASwEmlq0DORY2A')\n",
    "par = []\n",
    "    # loop through our business and \n",
    "for rev in results['reviews']:\n",
    "# parse each individual business into a dict\n",
    "    rev_dict = {'id' : rev['id'],\n",
    "                'business_id' : 'iSZpZgVnASwEmlq0DORY2A',\n",
    "                'text' : rev['text'],\n",
    "                'rating' : rev['rating'],\n",
    "                'time_created' : rev['time_created']\n",
    "               }\n",
    "# add each individual business dict to our data container\n",
    "    par.append(rev_dict)"
   ]
  },
  {
   "cell_type": "code",
   "execution_count": 341,
   "metadata": {},
   "outputs": [],
   "source": [
    "high_rest_max = br_df[br_df['rating_biz']==5.0]['review_count'].max()\n",
    "high_rest = br_df[(br_df['rating_biz']==5.0) & (br_df['review_count']==high_rest_max)]"
   ]
  },
  {
   "cell_type": "code",
   "execution_count": 342,
   "metadata": {},
   "outputs": [
    {
     "name": "stdout",
     "output_type": "stream",
     "text": [
      "Review for call in takeout order during covid\n",
      "\n",
      "Ordering: The call in order was quick and easy, with an estimated time of 15-20 minutes. \n",
      "\n",
      "Food: Ordered two...\n"
     ]
    }
   ],
   "source": [
    "print(high_rest.loc[high_rest['time_created'] == high_rest['time_created'].max()]['text'].item())"
   ]
  },
  {
   "cell_type": "markdown",
   "metadata": {},
   "source": [
    "Find the lowest rated business and return text of the most recent review. If multiple business have the same rating, select the business with the least reviews."
   ]
  },
  {
   "cell_type": "code",
   "execution_count": 353,
   "metadata": {},
   "outputs": [],
   "source": [
    "# we know from above the lowest rating is 1.5\n",
    "low_rest_min = br_df[br_df['rating_biz']==1.5]['review_count'].min()\n",
    "low_rest = br_df[(br_df['rating_biz']==1.5) & (br_df['review_count']==low_rest_min)]"
   ]
  },
  {
   "cell_type": "code",
   "execution_count": 354,
   "metadata": {},
   "outputs": [
    {
     "name": "stdout",
     "output_type": "stream",
     "text": [
      "If I could give zero stars I would. We ordered from postmates and against my better judgement we decided to try delivery sushi......\n",
      "\n",
      "Missing items, no...\n"
     ]
    }
   ],
   "source": [
    "print(low_rest.loc[low_rest['time_created'] == low_rest['time_created'].max()]['text'].item())"
   ]
  }
 ],
 "metadata": {
  "kernelspec": {
   "display_name": "Python 3",
   "language": "python",
   "name": "python3"
  },
  "language_info": {
   "codemirror_mode": {
    "name": "ipython",
    "version": 3
   },
   "file_extension": ".py",
   "mimetype": "text/x-python",
   "name": "python",
   "nbconvert_exporter": "python",
   "pygments_lexer": "ipython3",
   "version": "3.8.3"
  },
  "toc": {
   "base_numbering": 1,
   "nav_menu": {},
   "number_sections": false,
   "sideBar": true,
   "skip_h1_title": false,
   "title_cell": "Table of Contents",
   "title_sidebar": "Contents",
   "toc_cell": false,
   "toc_position": {},
   "toc_section_display": true,
   "toc_window_display": false
  }
 },
 "nbformat": 4,
 "nbformat_minor": 2
}
